{
 "cells": [
  {
   "cell_type": "markdown",
   "source": [
    "#### Question 1. Notebook (1 point)\n",
    "\n",
    "6.24"
   ],
   "metadata": {
    "collapsed": false
   }
  },
  {
   "cell_type": "markdown",
   "source": [
    "#### Question 2. Preparing the output (1 point)\n",
    "\n",
    "66M"
   ],
   "metadata": {
    "collapsed": false
   }
  },
  {
   "cell_type": "markdown",
   "source": [
    "#### Question 3. Creating the scoring script (1 point)"
   ],
   "metadata": {
    "collapsed": false
   }
  },
  {
   "cell_type": "code",
   "execution_count": null,
   "outputs": [],
   "source": [
    "%jupyter nbconvert --to script starter.ipynb"
   ],
   "metadata": {
    "collapsed": false
   }
  },
  {
   "cell_type": "markdown",
   "source": [
    "#### Question 4. Virtual environment. Hash for Scikit-Learn (1 point)"
   ],
   "metadata": {
    "collapsed": false
   }
  },
  {
   "cell_type": "markdown",
   "source": [
    "sha256:23fb9e74b813cc2528b5167d82ed08950b11106ccf50297161875e45152fb311"
   ],
   "metadata": {
    "collapsed": false
   }
  },
  {
   "cell_type": "markdown",
   "source": [
    "#### Question 5. Parametrize the script (1 point)\n",
    "\n",
    "taxi_pred.py"
   ],
   "metadata": {
    "collapsed": false
   }
  },
  {
   "cell_type": "code",
   "execution_count": null,
   "outputs": [],
   "source": [
    "#!/usr/bin/env python\n",
    "# coding: utf-8\n",
    "\n",
    "import argparse\n",
    "import pickle\n",
    "\n",
    "import numpy as np\n",
    "import pandas as pd\n",
    "\n",
    "categorical = ['PULocationID', 'DOLocationID']\n",
    "\n",
    "def read_data(filename):\n",
    "    df = pd.read_parquet(filename)\n",
    "\n",
    "    df['duration'] = df.tpep_dropoff_datetime - df.tpep_pickup_datetime\n",
    "    df['duration'] = df.duration.dt.total_seconds() / 60\n",
    "\n",
    "    df = df[(df.duration >= 1) & (df.duration <= 60)].copy()\n",
    "\n",
    "    df[categorical] = df[categorical].fillna(-1).astype('int').astype('str')\n",
    "\n",
    "    return df\n",
    "\n",
    "def main(year, month):\n",
    "    with open('model.bin', 'rb') as f_in:\n",
    "        dv, model = pickle.load(f_in)\n",
    "\n",
    "    filename = f'./yellow_tripdata_{year}-{month:02d}.parquet'\n",
    "\n",
    "    df = read_data(filename)\n",
    "\n",
    "    dicts = df[categorical].to_dict(orient='records')\n",
    "    X_val = dv.transform(dicts)\n",
    "\n",
    "    y_pred = model.predict(X_val)\n",
    "\n",
    "    mean_pred_duration = np.mean(y_pred)\n",
    "    print(f'Mean predicted duration for {year}/{month:02d}: {mean_pred_duration:.2f} minutes')\n",
    "\n",
    "    df['ride_id'] = f'{year:04d}/{month:02d}_' + df.index.astype('str')\n",
    "    df_result = pd.DataFrame({\n",
    "        'ride_id': df['ride_id'],\n",
    "        'predicted_duration': y_pred\n",
    "    })\n",
    "\n",
    "    output_file = f'./predicted_{year}_{month:02d}.parquet'\n",
    "\n",
    "    df_result.to_parquet(\n",
    "        output_file,\n",
    "        engine='pyarrow',\n",
    "        compression=None,\n",
    "        index=False\n",
    "    )\n",
    "\n",
    "if __name__ == '__main__':\n",
    "    parser = argparse.ArgumentParser(description='Predict taxi ride durations')\n",
    "    parser.add_argument('--year', type=int, required=True, help='Year')\n",
    "    parser.add_argument('--month', type=int, required=True, help='Month of the dataset')\n",
    "    args = parser.parse_args()\n",
    "\n",
    "    main(args.year, args.month)\n"
   ],
   "metadata": {
    "collapsed": false
   }
  },
  {
   "cell_type": "markdown",
   "source": [
    "#### Question 6. Docker container (1 point)\n",
    "dockerfile"
   ],
   "metadata": {
    "collapsed": false
   }
  },
  {
   "cell_type": "markdown",
   "source": [
    "FROM agrigorev/zoomcamp-model:mlops-2024-3.10.13-slim\n",
    "\n",
    "WORKDIR /app\n",
    "\n",
    "COPY taxi_pred.py .\n",
    "\n",
    "COPY requirements.txt .\n",
    "\n",
    "COPY yellow_tripdata_2023-05.parquet .\n",
    "\n",
    "RUN pip install -r requirements.txt && pip install pyarrow\n",
    "\n",
    "CMD [\"python\", \"taxi_pred.py\", \"--year\", \"2023\", \"--month\", \"5\"]\n"
   ],
   "metadata": {
    "collapsed": false
   }
  }
 ],
 "metadata": {
  "kernelspec": {
   "name": "mlops",
   "language": "python",
   "display_name": "Python (MLops)"
  },
  "language_info": {
   "codemirror_mode": {
    "name": "ipython",
    "version": 2
   },
   "file_extension": ".py",
   "mimetype": "text/x-python",
   "name": "python",
   "nbconvert_exporter": "python",
   "pygments_lexer": "ipython2",
   "version": "2.7.6"
  }
 },
 "nbformat": 4,
 "nbformat_minor": 0
}
