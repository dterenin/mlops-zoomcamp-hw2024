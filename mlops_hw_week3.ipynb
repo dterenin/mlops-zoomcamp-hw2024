{
 "cells": [
  {
   "cell_type": "markdown",
   "source": [
    "#### Question 1. Version of Mage (1 point)\n",
    "\n",
    "v0.9.70"
   ],
   "metadata": {
    "collapsed": false
   }
  },
  {
   "cell_type": "markdown",
   "source": [
    "#### Question 2. Creating a project (1 point)"
   ],
   "metadata": {
    "collapsed": false
   }
  },
  {
   "cell_type": "code",
   "execution_count": null,
   "outputs": [],
   "source": [
    "!wc -l < /03-orchestration/mlops/homework03/metadata.yaml"
   ],
   "metadata": {
    "collapsed": false
   }
  },
  {
   "cell_type": "markdown",
   "source": [
    "#### Question 3. Creating a pipeline (1 point)"
   ],
   "metadata": {
    "collapsed": false
   }
  },
  {
   "cell_type": "code",
   "execution_count": null,
   "outputs": [],
   "source": [
    "import io\n",
    "import pandas as pd\n",
    "import requests\n",
    "from pandas import DataFrame\n",
    "\n",
    "if 'data_loader' not in globals():\n",
    "    from mage_ai.data_preparation.decorators import data_loader\n",
    "if 'test' not in globals():\n",
    "    from mage_ai.data_preparation.decorators import test\n",
    "\n",
    "\n",
    "@data_loader\n",
    "def load_data_from_api(**kwargs) -> tuple:\n",
    "    \"\"\"\n",
    "    Template for loading data from API\n",
    "    \"\"\"\n",
    "    url = 'https://d37ci6vzurychx.cloudfront.net/trip-data/yellow_tripdata_2023-03.parquet'\n",
    "\n",
    "    # Read the data directly into a DataFrame\n",
    "    df = pd.read_parquet(url)\n",
    "\n",
    "    # Return the DataFrame and its length\n",
    "    return df, len(df)\n",
    "\n",
    "\n",
    "@test\n",
    "def test_output(df) -> None:\n",
    "    \"\"\"\n",
    "\n",
    "    Template code for testing the output of the block.\n",
    "    \"\"\"\n",
    "    assert df is not None, 'The output is undefined'"
   ],
   "metadata": {
    "collapsed": false
   }
  },
  {
   "cell_type": "markdown",
   "source": [
    "#### Question 4. Data preparation (1 point)"
   ],
   "metadata": {
    "collapsed": false
   }
  },
  {
   "cell_type": "code",
   "execution_count": 11,
   "outputs": [],
   "source": [
    "import pandas as pd\n",
    "\n",
    "def read_dataframe(filename):\n",
    "    df = pd.read_parquet(filename)\n",
    "\n",
    "    df['duration'] = (df['tpep_dropoff_datetime'] - df['tpep_pickup_datetime']).dt.total_seconds() / 60\n",
    "\n",
    "    df = df[(df['duration'] >= 1) & (df['duration'] <= 60)]\n",
    "\n",
    "    categorical_columns = ['PULocationID', 'DOLocationID']\n",
    "    df[categorical_columns] = df[categorical_columns].astype(str)\n",
    "\n",
    "    return df\n"
   ],
   "metadata": {
    "collapsed": false
   }
  }
 ],
 "metadata": {
  "kernelspec": {
   "name": "mlops",
   "language": "python",
   "display_name": "Python (MLops)"
  },
  "language_info": {
   "codemirror_mode": {
    "name": "ipython",
    "version": 2
   },
   "file_extension": ".py",
   "mimetype": "text/x-python",
   "name": "python",
   "nbconvert_exporter": "python",
   "pygments_lexer": "ipython2",
   "version": "2.7.6"
  }
 },
 "nbformat": 4,
 "nbformat_minor": 0
}
