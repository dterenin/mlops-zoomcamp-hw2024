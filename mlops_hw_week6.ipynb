{
 "cells": [
  {
   "cell_type": "markdown",
   "id": "97yfKrCqBVSc",
   "metadata": {
    "id": "97yfKrCqBVSc"
   },
   "source": [
    "### Question 1. Refactoring (1 point)"
   ]
  },
  {
   "cell_type": "markdown",
   "source": [
    "main.py:"
   ],
   "metadata": {
    "collapsed": false
   }
  },
  {
   "cell_type": "code",
   "execution_count": 3,
   "outputs": [],
   "source": [
    "import pandas as pd\n",
    "\n",
    "def main(year, month):\n",
    "    categorical = ['PULocationID', 'DOLocationID']\n",
    "    df = read_data(year, month, categorical)\n",
    "\n",
    "    output_file = f'taxi_type=yellow_year={year:04d}_month={month:02d}.parquet'\n",
    "    df.to_parquet(output_file)\n",
    "\n",
    "def read_data(year, month, categorical):\n",
    "    file_path = f'yellow_tripdata_{year:04d}-{month:02d}.parquet'\n",
    "    df = pd.read_parquet(file_path)\n",
    "    df[categorical] = df[categorical].astype('category')\n",
    "    return df\n",
    "\n",
    "if __name__ == \"__main__\":\n",
    "    main(2023, 3)"
   ],
   "metadata": {
    "collapsed": false
   }
  },
  {
   "cell_type": "code",
   "execution_count": 11,
   "outputs": [
    {
     "name": "stdout",
     "output_type": "stream",
     "text": [
      "taxi_type=yellow_year=2023_month=03.parquet\r\n",
      "yellow_tripdata_2023-03.parquet\r\n"
     ]
    }
   ],
   "source": [
    "!ls | grep parquet"
   ],
   "metadata": {
    "collapsed": false
   }
  },
  {
   "cell_type": "markdown",
   "id": "pWrLGUESBed6",
   "metadata": {
    "id": "pWrLGUESBed6"
   },
   "source": [
    "### Question 2. Installing pytest (1 point)"
   ]
  },
  {
   "cell_type": "code",
   "execution_count": 14,
   "outputs": [
    {
     "name": "stdout",
     "output_type": "stream",
     "text": [
      "\u001B[01;34mtests\u001B[0m\r\n",
      "├── \u001B[00m__init__.py\u001B[0m\r\n",
      "└── \u001B[00mtest_batch.py\u001B[0m\r\n",
      "\r\n",
      "1 directory, 2 files\r\n"
     ]
    }
   ],
   "source": [
    "!tree tests"
   ],
   "metadata": {
    "collapsed": false
   }
  },
  {
   "cell_type": "markdown",
   "id": "ca0c395a-d5cf-4870-aa64-edb4809bc662",
   "metadata": {
    "id": "ca0c395a-d5cf-4870-aa64-edb4809bc662"
   },
   "source": [
    "### Question 3. Writing first unit test (1 point)"
   ]
  },
  {
   "cell_type": "code",
   "execution_count": 7,
   "outputs": [
    {
     "name": "stdout",
     "output_type": "stream",
     "text": [
      "\u001B[1m============================= test session starts ==============================\u001B[0m\r\n",
      "platform darwin -- Python 3.10.8, pytest-8.2.2, pluggy-1.5.0\r\n",
      "rootdir: /Users/machine/DataspellProjects/mlops-zoomcamp/cohorts/2024/06-best-practices/homework\r\n",
      "plugins: anyio-3.5.0\r\n",
      "collected 1 item                                                               \u001B[0m\r\n",
      "\r\n",
      "tests/test_batch.py Length of actual DataFrame: 2\r\n",
      "Actual DataFrame:\r\n",
      "  PULocationID DOLocationID  ... tpep_dropoff_datetime duration\r\n",
      "0           -1           -1  ...   2023-01-01 01:10:00      9.0\r\n",
      "1            1            1  ...   2023-01-01 01:10:00      8.0\r\n",
      "\r\n",
      "[2 rows x 5 columns]\r\n",
      "\u001B[32m.\u001B[0m\r\n",
      "\r\n",
      "\u001B[32m============================== \u001B[32m\u001B[1m1 passed\u001B[0m\u001B[32m in 0.38s\u001B[0m\u001B[32m ===============================\u001B[0m\r\n"
     ]
    }
   ],
   "source": [
    "!pytest -s"
   ],
   "metadata": {
    "collapsed": false
   }
  },
  {
   "cell_type": "markdown",
   "id": "00b428a6-3438-4482-91fb-04ed17f5fe8d",
   "metadata": {
    "id": "00b428a6-3438-4482-91fb-04ed17f5fe8d"
   },
   "source": [
    "### Question 4. Mocking S3 with Localstack (1 point)"
   ]
  },
  {
   "cell_type": "code",
   "execution_count": 10,
   "outputs": [
    {
     "name": "stdout",
     "output_type": "stream",
     "text": [
      "version: '3.8'\r\n",
      "\r\n",
      "services:\r\n",
      "  localstack:\r\n",
      "    image: localstack/localstack\r\n",
      "    ports:\r\n",
      "      - \"4566:4566\"\r\n",
      "    environment:\r\n",
      "      SERVICES: \"s3\"\r\n",
      "      DEBUG: \"1\"\r\n",
      "      CLEAR_TMP_FOLDER: \"0\"\r\n",
      "    volumes:\r\n",
      "      - \"./tmp/localstack:/tmp/localstack\"\r\n"
     ]
    }
   ],
   "source": [
    "!cat docker-compose.yaml"
   ],
   "metadata": {
    "collapsed": false
   }
  },
  {
   "cell_type": "markdown",
   "source": [
    "### Question 5. Creating test data (1 point)"
   ],
   "metadata": {
    "collapsed": false
   }
  },
  {
   "cell_type": "code",
   "execution_count": null,
   "outputs": [],
   "source": [],
   "metadata": {
    "collapsed": false
   }
  },
  {
   "cell_type": "markdown",
   "source": [
    "### Question 6. Finish the integration test (1 point)"
   ],
   "metadata": {
    "collapsed": false
   }
  },
  {
   "cell_type": "code",
   "execution_count": null,
   "outputs": [],
   "source": [],
   "metadata": {
    "collapsed": false
   }
  }
 ],
 "metadata": {
  "colab": {
   "provenance": []
  },
  "kernelspec": {
   "name": "mlops",
   "language": "python",
   "display_name": "Python (MLops)"
  },
  "language_info": {
   "codemirror_mode": {
    "name": "ipython",
    "version": 3
   },
   "file_extension": ".py",
   "mimetype": "text/x-python",
   "name": "python",
   "nbconvert_exporter": "python",
   "pygments_lexer": "ipython3",
   "version": "3.9.13"
  }
 },
 "nbformat": 4,
 "nbformat_minor": 5
}
